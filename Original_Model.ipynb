{
 "cells": [
  {
   "cell_type": "markdown",
   "metadata": {},
   "source": [
    "## Detection for Original Videos\n",
    "This notebooks walks through model training for frames captured from the original videos"
   ]
  },
  {
   "cell_type": "code",
<<<<<<< HEAD
   "execution_count": 2,
=======
   "execution_count": 1,
>>>>>>> f441f6561119169d66ee5b2172ff64e7d4701380
   "metadata": {},
   "outputs": [
    {
     "ename": "ImportError",
     "evalue": "No module named tensorflow",
     "output_type": "error",
     "traceback": [
      "\u001b[0;31m---------------------------------------------------------------------------\u001b[0m",
      "\u001b[0;31mImportError\u001b[0m                               Traceback (most recent call last)",
      "\u001b[0;32m<ipython-input-2-f850e129d9d3>\u001b[0m in \u001b[0;36m<module>\u001b[0;34m()\u001b[0m\n\u001b[1;32m      1\u001b[0m \u001b[0;31m#import tensorflow as tf\u001b[0m\u001b[0;34m\u001b[0m\u001b[0;34m\u001b[0m\u001b[0m\n\u001b[1;32m      2\u001b[0m \u001b[0;32mimport\u001b[0m \u001b[0mnumpy\u001b[0m \u001b[0;32mas\u001b[0m \u001b[0mnp\u001b[0m\u001b[0;34m\u001b[0m\u001b[0m\n\u001b[0;32m----> 3\u001b[0;31m \u001b[0;32mfrom\u001b[0m \u001b[0msrc\u001b[0m \u001b[0;32mimport\u001b[0m \u001b[0mThreeLayerConvNet\u001b[0m\u001b[0;34m,\u001b[0m \u001b[0mImport_Data\u001b[0m\u001b[0;34m,\u001b[0m \u001b[0moptimizer_init_fn\u001b[0m\u001b[0;34m\u001b[0m\u001b[0m\n\u001b[0m",
      "\u001b[0;32m/Users/sanatha/Documents/HABits Task/src/__init__.py\u001b[0m in \u001b[0;36m<module>\u001b[0;34m()\u001b[0m\n\u001b[1;32m      1\u001b[0m \u001b[0;32mfrom\u001b[0m \u001b[0mdata\u001b[0m \u001b[0;32mimport\u001b[0m \u001b[0mImport_Data\u001b[0m\u001b[0;34m\u001b[0m\u001b[0m\n\u001b[0;32m----> 2\u001b[0;31m \u001b[0;32mfrom\u001b[0m \u001b[0mmodel\u001b[0m \u001b[0;32mimport\u001b[0m \u001b[0mThreeLayerConvNet\u001b[0m\u001b[0;34m\u001b[0m\u001b[0m\n\u001b[0m\u001b[1;32m      3\u001b[0m \u001b[0;32mfrom\u001b[0m \u001b[0moptimizer\u001b[0m \u001b[0;32mimport\u001b[0m \u001b[0moptimizer_init_fn\u001b[0m\u001b[0;34m\u001b[0m\u001b[0m\n",
      "\u001b[0;32m/Users/sanatha/Documents/HABits Task/src/model.py\u001b[0m in \u001b[0;36m<module>\u001b[0;34m()\u001b[0m\n\u001b[0;32m----> 1\u001b[0;31m \u001b[0;32mimport\u001b[0m \u001b[0mtensorflow\u001b[0m \u001b[0;32mas\u001b[0m \u001b[0mtf\u001b[0m\u001b[0;34m\u001b[0m\u001b[0m\n\u001b[0m\u001b[1;32m      2\u001b[0m \u001b[0;34m\u001b[0m\u001b[0m\n\u001b[1;32m      3\u001b[0m \u001b[0;34m\u001b[0m\u001b[0m\n\u001b[1;32m      4\u001b[0m \u001b[0;32mclass\u001b[0m \u001b[0mThreeLayerConvNet\u001b[0m\u001b[0;34m(\u001b[0m\u001b[0mtf\u001b[0m\u001b[0;34m.\u001b[0m\u001b[0mkeras\u001b[0m\u001b[0;34m.\u001b[0m\u001b[0mModel\u001b[0m\u001b[0;34m)\u001b[0m\u001b[0;34m:\u001b[0m\u001b[0;34m\u001b[0m\u001b[0m\n\u001b[1;32m      5\u001b[0m     '''\n",
      "\u001b[0;31mImportError\u001b[0m: No module named tensorflow"
     ]
    }
   ],
   "source": [
    "#import tensorflow as tf\n",
    "import numpy as np\n",
    "from src import ThreeLayerConvNet, Import_Data, optimizer_init_fn"
   ]
  },
  {
   "cell_type": "markdown",
   "metadata": {},
   "source": [
    "`Import_Data()` is class used to convert images into tensors. \n",
    "`get_data` returns X and y tensors for training, testing and validation. `get_labels` returns the image names for the given set"
   ]
  },
  {
   "cell_type": "code",
   "execution_count": 2,
   "metadata": {},
   "outputs": [],
   "source": [
    "importer = Import_Data()\n",
    "X_train, y_train, X_test, y_test, X_val, y_val = importer.get_data()"
   ]
  },
  {
   "cell_type": "markdown",
   "metadata": {},
   "source": [
    "`ThreeLayerConvNet` contains the CNN framework used for training. `optimizer_init_fn` returns a nesterov SGD keras optimizer"
   ]
  },
  {
   "cell_type": "code",
   "execution_count": 3,
   "metadata": {},
   "outputs": [],
   "source": [
    "model = ThreeLayerConvNet()"
   ]
  },
  {
   "cell_type": "markdown",
   "metadata": {},
   "source": [
    "This block compiles and trains the network"
   ]
  },
  {
   "cell_type": "code",
   "execution_count": 4,
   "metadata": {},
   "outputs": [
    {
     "name": "stdout",
     "output_type": "stream",
     "text": [
      "Train on 116 samples, validate on 69 samples\n",
      "Epoch 1/8\n",
      "116/116 [==============================] - 35s 306ms/sample - loss: 143.5501 - sparse_categorical_accuracy: 0.7241 - val_loss: 28.1815 - val_sparse_categorical_accuracy: 0.8986\n",
      "Epoch 2/8\n",
      "116/116 [==============================] - 31s 265ms/sample - loss: 6.5659 - sparse_categorical_accuracy: 0.9397 - val_loss: 0.4700 - val_sparse_categorical_accuracy: 0.9565\n",
      "Epoch 3/8\n",
      "116/116 [==============================] - 31s 264ms/sample - loss: 0.6146 - sparse_categorical_accuracy: 0.9569 - val_loss: 0.3133 - val_sparse_categorical_accuracy: 0.9565\n",
      "Epoch 4/8\n",
      "116/116 [==============================] - 31s 265ms/sample - loss: 0.1769 - sparse_categorical_accuracy: 1.0000 - val_loss: 0.2314 - val_sparse_categorical_accuracy: 0.9565\n",
      "Epoch 5/8\n",
      "116/116 [==============================] - 31s 264ms/sample - loss: 0.0249 - sparse_categorical_accuracy: 1.0000 - val_loss: 0.1088 - val_sparse_categorical_accuracy: 0.9565\n",
      "Epoch 6/8\n",
      "116/116 [==============================] - 31s 265ms/sample - loss: 0.0049 - sparse_categorical_accuracy: 1.0000 - val_loss: 0.1450 - val_sparse_categorical_accuracy: 0.9565\n",
      "Epoch 7/8\n",
      "116/116 [==============================] - 31s 265ms/sample - loss: 5.2835e-04 - sparse_categorical_accuracy: 1.0000 - val_loss: 0.2421 - val_sparse_categorical_accuracy: 0.9565\n",
      "Epoch 8/8\n",
      "116/116 [==============================] - 31s 265ms/sample - loss: 3.7490e-04 - sparse_categorical_accuracy: 1.0000 - val_loss: 0.2228 - val_sparse_categorical_accuracy: 0.9565\n"
     ]
    },
    {
     "data": {
      "text/plain": [
       "<tensorflow.python.keras.callbacks.History at 0x7fd8d2412f10>"
      ]
     },
     "execution_count": 4,
     "metadata": {},
     "output_type": "execute_result"
    }
   ],
   "source": [
    "model.compile(optimizer_init_fn(5e-4),\n",
    "              loss='sparse_categorical_crossentropy',\n",
    "              metrics=[tf.keras.metrics.sparse_categorical_accuracy])\n",
<<<<<<< HEAD
    "model.fit(X_train, y_train, batch_size=16, epochs= 7, validation_data=(X_test, y_test))\n",
    "#Note we're valdidating on the test set per the ttask specification\n",
=======
    "model.fit(X_train, y_train, batch_size=16, epochs= 8, validation_data=(X_test, y_test))\n",
    "#Note we're valdidating on the test set per the task specification\n",
>>>>>>> f441f6561119169d66ee5b2172ff64e7d4701380
    "#If satisfactory accuracy isn't reached, increase the number of epochs"
   ]
  },
  {
   "cell_type": "markdown",
   "metadata": {},
   "source": [
    "And this block evaluates how the model does on the validation set and shows the predicted values"
   ]
  },
  {
   "cell_type": "code",
   "execution_count": 5,
   "metadata": {
    "scrolled": true
   },
   "outputs": [
    {
     "name": "stdout",
     "output_type": "stream",
     "text": [
      "47/1 [==================================================================================================================================================================================================================================================================================================================================================================================================================================================================================================================================================================================================================================================================================================================================================================================================================================================================================================================================================================================================================================================================================================================================================================================================================================================================================================================================================================================================================================================================] - 2s 47ms/sample - loss: 0.0259 - sparse_categorical_accuracy: 0.9787\n",
      "[0 0 0 0 0 0 0 1 0 0 0 0 0 0 1 0 0 1 0 0 0 0 0 0 0 0 0 0 0 0 0 0 0 0 0 0 0\n",
      " 0 0 0 0 0 0 0 0 0 0]\n"
     ]
    }
   ],
   "source": [
    "loss, acc = model.evaluate(X_val, y_val)\n",
    "y_val_pred = np.argmax(model.predict(X_val), axis = 1)\n",
    "print (y_val_pred)"
   ]
  },
  {
   "cell_type": "markdown",
   "metadata": {},
   "source": [
    "Finally, this block writes the training data labels to `output_original.csv`"
   ]
  },
  {
   "cell_type": "code",
   "execution_count": 6,
   "metadata": {},
   "outputs": [
    {
     "name": "stdout",
     "output_type": "stream",
     "text": [
      "Output written to output_original.csv\n"
     ]
    }
   ],
   "source": [
<<<<<<< HEAD
=======
    "import pandas as pd \n",
    "\n",
    "def write_output(path,names, y_pred):\n",
    "    '''\n",
    "    names must be a list of length N\n",
    "    y_pred must be a 1D np.array of size N\n",
    "    '''\n",
    "    N = y_pred.shape[0]\n",
    "    pred_word = []\n",
    "    for i in range(N): \n",
    "        if y_pred[i] == 1: \n",
    "            pred_word.append('yes')\n",
    "        else: \n",
    "            pred_word.append('no')\n",
    "    output_df = pd.DataFrame(columns = ['Name','Drinking'])\n",
    "    output_df['Name'] = names\n",
    "    output_df['Drinking'] = pred_word\n",
    "    output_df.to_csv(path, sep = ',', header = False, index = False)\n",
    "    print ('Output written to %s' % path)\n",
    "    \n",
>>>>>>> f441f6561119169d66ee5b2172ff64e7d4701380
    "y_train_pred = np.argmax(model.predict(X_train), axis = 1)\n",
    "importer.write_output('output_original.csv',importer.get_labels(), y_train_pred)"
   ]
  },
  {
   "cell_type": "code",
   "execution_count": null,
   "metadata": {},
   "outputs": [],
   "source": []
  }
 ],
 "metadata": {
  "kernelspec": {
   "display_name": "Python 2",
   "language": "python",
   "name": "python2"
  },
  "language_info": {
   "codemirror_mode": {
    "name": "ipython",
    "version": 2
   },
   "file_extension": ".py",
   "mimetype": "text/x-python",
   "name": "python",
   "nbconvert_exporter": "python",
   "pygments_lexer": "ipython2",
   "version": "2.7.16"
  }
 },
 "nbformat": 4,
 "nbformat_minor": 2
}
