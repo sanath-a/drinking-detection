{
 "cells": [
  {
   "cell_type": "code",
   "execution_count": 1,
   "metadata": {},
   "outputs": [],
   "source": [
    "import tensorflow as tf\n",
    "import numpy as np\n",
    "import os\n",
    "import matplotlib.pyplot as plt\n",
    "\n",
    "%matplotlib inline"
   ]
  },
  {
   "cell_type": "code",
   "execution_count": 2,
   "metadata": {},
   "outputs": [],
   "source": [
    "plt.rcParams['figure.figsize'] = (10.0, 8.0) # set default size of plots\n",
    "plt.rcParams['image.interpolation'] = 'nearest'\n",
    "plt.rcParams['image.cmap'] = 'gray'"
   ]
  },
  {
   "cell_type": "code",
   "execution_count": 3,
   "metadata": {},
   "outputs": [],
   "source": [
    "from model import ThreeLayerConvNet\n",
    "from trainer import train_loop\n",
    "from data import import_data, Dataset"
   ]
  },
  {
   "cell_type": "code",
   "execution_count": 4,
   "metadata": {},
   "outputs": [],
   "source": [
    "X_train, y_train, X_test, y_test, X_val, y_val = import_data()\n",
    "train_dset = Dataset(X_train, y_train, 16, shuffle = True )\n",
    "val_dset = Dataset(X_test, y_test, 16, shuffle = False) ##NOTE: Validating on test for some reason\n",
    "test_dset = Dataset(X_val, y_val, 15, shuffle = False)\n"
   ]
  },
  {
   "cell_type": "code",
   "execution_count": 21,
   "metadata": {},
   "outputs": [
    {
     "name": "stdout",
     "output_type": "stream",
     "text": [
      "[0. 0. 0. 0. 0. 0. 0. 0. 0. 0. 0. 0. 0. 0. 0. 0.]\n",
      "[0. 1. 0. 0. 0. 0. 0. 1. 0. 0. 0. 0. 0. 0. 0. 0.]\n",
      "[0. 0. 0. 0. 0. 0. 0. 1. 0. 0. 1. 0. 1. 1. 0. 0.]\n",
      "[0. 1. 1. 0. 0. 0. 1. 0. 1. 1. 0. 0. 0. 0. 0. 0.]\n",
      "[0. 0. 0. 0. 0. 0. 0. 0. 0. 0. 0. 0. 0. 0. 0. 0.]\n",
      "[0. 0. 0. 0. 0. 0. 0. 0. 0. 1. 1. 0. 0. 0. 0. 0.]\n",
      "[0. 0. 0. 1. 0. 0. 0. 0. 0. 0. 0. 0. 0. 0. 0. 0.]\n",
      "[0. 0. 0. 0.]\n"
     ]
    }
   ],
   "source": [
    "for t, (x_np, y_np) in enumerate(train_dset):\n",
    "    print (y_np)"
   ]
  },
  {
   "cell_type": "code",
   "execution_count": 22,
   "metadata": {},
   "outputs": [
    {
     "name": "stdout",
     "output_type": "stream",
     "text": [
      "[0. 1. 0. 0. 0. 0. 1. 0. 0. 0. 0. 0. 1. 0. 0. 0. 0. 0. 0. 0. 0. 0. 0. 0.\n",
      " 0. 0. 0. 0. 0. 0. 0. 0. 0. 0. 1. 0. 0. 0. 0. 0. 0. 0. 0. 1. 1. 0. 0.]\n"
     ]
    }
   ],
   "source": [
    "print (y_val)"
   ]
  },
  {
   "cell_type": "code",
   "execution_count": 38,
   "metadata": {},
   "outputs": [],
   "source": [
    "def model_init_fn():\n",
    "    channel_1, channel_2, num_classes = 64,64,2\n",
    "    \n",
    "    initializer = tf.initializers.VarianceScaling(scale=2.0)\n",
    "    layers = [\n",
    "        tf.keras.layers.Conv2D(channel_1, 5, strides = 1,\n",
    "                                padding = \"same\", activation = \"relu\", kernel_initializer = initializer),\n",
    "        tf.keras.layers.Conv2D(channel_2, 3, strides = 1,\n",
    "                               padding = \"same\", activation = \"relu\", kernel_initializer = initializer),\n",
    "        tf.keras.layers.Flatten(),\n",
    "        tf.keras.layers.Dense(num_classes, activation = \"softmax\", kernel_initializer = initializer )\n",
    "        \n",
    "    ]\n",
    "    model = tf.keras.Sequential(layers)\n",
    "    return model\n",
    "\n",
    "learning_rate = 5e-4\n",
    "def optimizer_init_fn():\n",
    "    optimizer = tf.keras.optimizers.SGD(learning_rate = learning_rate, momentum = 0.9, nesterov = True)\n",
    "    return optimizer\n"
   ]
  },
  {
   "cell_type": "code",
   "execution_count": 39,
   "metadata": {},
   "outputs": [
    {
     "name": "stdout",
     "output_type": "stream",
     "text": [
      "Train on 116 samples, validate on 69 samples\n",
      "Epoch 1/10\n",
      "116/116 [==============================] - 13s 109ms/sample - loss: 1505.6705 - sparse_categorical_accuracy: 0.5690 - val_loss: 317.3890 - val_sparse_categorical_accuracy: 0.9130\n",
      "Epoch 2/10\n",
      "116/116 [==============================] - 7s 62ms/sample - loss: 3361946.4192 - sparse_categorical_accuracy: 0.5431 - val_loss: 0.3150 - val_sparse_categorical_accuracy: 0.9130\n",
      "Epoch 3/10\n",
      "116/116 [==============================] - 7s 62ms/sample - loss: 0.4395 - sparse_categorical_accuracy: 0.8793 - val_loss: 0.5559 - val_sparse_categorical_accuracy: 0.9130\n",
      "Epoch 4/10\n",
      "116/116 [==============================] - 7s 62ms/sample - loss: 0.4482 - sparse_categorical_accuracy: 0.8707 - val_loss: 0.4001 - val_sparse_categorical_accuracy: 0.9130\n",
      "Epoch 5/10\n",
      "116/116 [==============================] - 7s 62ms/sample - loss: 0.5522 - sparse_categorical_accuracy: 0.8966 - val_loss: 0.2439 - val_sparse_categorical_accuracy: 0.9130\n",
      "Epoch 6/10\n",
      "116/116 [==============================] - 7s 62ms/sample - loss: 0.3628 - sparse_categorical_accuracy: 0.9052 - val_loss: 0.1895 - val_sparse_categorical_accuracy: 0.9565\n",
      "Epoch 7/10\n",
      "116/116 [==============================] - 7s 61ms/sample - loss: 0.1950 - sparse_categorical_accuracy: 0.9569 - val_loss: 0.3025 - val_sparse_categorical_accuracy: 0.9130\n",
      "Epoch 8/10\n",
      "116/116 [==============================] - 7s 62ms/sample - loss: 0.2526 - sparse_categorical_accuracy: 0.9138 - val_loss: 0.0763 - val_sparse_categorical_accuracy: 0.9855\n",
      "Epoch 9/10\n",
      "116/116 [==============================] - 7s 61ms/sample - loss: 0.0519 - sparse_categorical_accuracy: 0.9741 - val_loss: 0.1240 - val_sparse_categorical_accuracy: 0.9710\n",
      "Epoch 10/10\n",
      "116/116 [==============================] - 7s 62ms/sample - loss: 0.0193 - sparse_categorical_accuracy: 0.9914 - val_loss: 0.0054 - val_sparse_categorical_accuracy: 1.0000\n"
     ]
    },
    {
     "data": {
      "text/plain": [
       "<tensorflow.python.keras.callbacks.History at 0x7fc650f0d7b8>"
      ]
     },
     "execution_count": 39,
     "metadata": {},
     "output_type": "execute_result"
    }
   ],
   "source": [
    "model = model_init_fn()\n",
    "model.compile(optimizer_init_fn(),\n",
    "              loss='sparse_categorical_crossentropy',\n",
    "              metrics=[tf.keras.metrics.sparse_categorical_accuracy])\n",
    "model.fit(X_train, y_train, batch_size=16, epochs=10, validation_data=(X_test, y_test))\n"
   ]
  },
  {
   "cell_type": "code",
   "execution_count": 40,
   "metadata": {},
   "outputs": [
    {
     "name": "stdout",
     "output_type": "stream",
     "text": [
      "\r",
      "47/1 [==================================================================================================================================================================================================================================================================================================================================================================================================================================================================================================================================================================================================================================================================================================================================================================================================================================================================================================================================================================================================================================================================================================================================================================================================================================================================================================================================================================================================================================================================] - 2s 44ms/sample - loss: 0.2780 - sparse_categorical_accuracy: 0.9574\n"
     ]
    }
   ],
   "source": [
    "loss, acc = model.evaluate(X_val, y_val, batch_size = 16)\n",
    "y_pred = model.predict(X_val)\n"
   ]
  },
  {
   "cell_type": "code",
   "execution_count": 36,
   "metadata": {},
   "outputs": [
    {
     "name": "stdout",
     "output_type": "stream",
     "text": [
      "[[9.99999642e-01 3.44536517e-07]\n",
      " [2.22925053e-04 9.99777138e-01]\n",
      " [9.99991417e-01 8.54099108e-06]\n",
      " [1.00000000e+00 3.82938588e-08]\n",
      " [9.99999642e-01 3.10959592e-07]\n",
      " [9.99988675e-01 1.13527658e-05]\n",
      " [3.90958985e-06 9.99996066e-01]\n",
      " [9.99983788e-01 1.62625511e-05]\n",
      " [9.99998808e-01 1.17621039e-06]\n",
      " [9.99999285e-01 7.15165527e-07]\n",
      " [1.00000000e+00 1.17608501e-08]\n",
      " [9.97918785e-01 2.08123284e-03]\n",
      " [9.78946802e-04 9.99021053e-01]\n",
      " [9.99999762e-01 2.68241422e-07]\n",
      " [1.00000000e+00 3.86975429e-08]\n",
      " [1.00000000e+00 5.18664685e-08]\n",
      " [1.00000000e+00 6.04714279e-10]\n",
      " [9.99988198e-01 1.18148018e-05]\n",
      " [9.99852180e-01 1.47790255e-04]\n",
      " [1.00000000e+00 1.91630245e-09]\n",
      " [9.99999762e-01 2.68425168e-07]\n",
      " [1.00000000e+00 1.11220855e-08]\n",
      " [9.99999762e-01 1.82870338e-07]\n",
      " [9.99996662e-01 3.28182773e-06]\n",
      " [9.99999642e-01 3.14634093e-07]\n",
      " [1.00000000e+00 5.72576262e-08]\n",
      " [1.00000000e+00 2.56778554e-09]\n",
      " [1.00000000e+00 8.08324074e-10]\n",
      " [9.98112321e-01 1.88768702e-03]\n",
      " [1.00000000e+00 1.58787756e-08]\n",
      " [1.00000000e+00 1.91044229e-08]\n",
      " [7.25109518e-01 2.74890512e-01]\n",
      " [9.99999881e-01 1.39523948e-07]\n",
      " [9.96608853e-01 3.39121418e-03]\n",
      " [8.10444355e-01 1.89555615e-01]\n",
      " [1.00000000e+00 2.92476798e-08]\n",
      " [1.00000000e+00 1.70966263e-09]\n",
      " [9.99999881e-01 7.48251594e-08]\n",
      " [9.87280190e-01 1.27197728e-02]\n",
      " [9.99999881e-01 8.87618725e-08]\n",
      " [9.99999046e-01 9.59139584e-07]\n",
      " [1.00000000e+00 9.69293890e-09]\n",
      " [9.95669842e-01 4.33021085e-03]\n",
      " [8.25157404e-01 1.74842611e-01]\n",
      " [9.87939711e-06 9.99990106e-01]\n",
      " [9.99999881e-01 8.98578563e-08]\n",
      " [9.98374224e-01 1.62577035e-03]]\n",
      "[0 1 0 0 0 0 1 0 0 0 0 0 1 0 0 0 0 0 0 0 0 0 0 0 0 0 0 0 0 0 0 0 0 0 0 0 0\n",
      " 0 0 0 0 0 0 0 1 0 0]\n"
     ]
    }
   ],
   "source": [
    "print (y_pred)\n",
    "y_pred = np.argmax(y_pred, axis = 1)\n",
    "print (y_pred)"
   ]
  },
  {
   "cell_type": "code",
   "execution_count": 37,
   "metadata": {},
   "outputs": [
    {
     "name": "stdout",
     "output_type": "stream",
     "text": [
      "[0. 1. 0. 0. 0. 0. 1. 0. 0. 0. 0. 0. 1. 0. 0. 0. 0. 0. 0. 0. 0. 0. 0. 0.\n",
      " 0. 0. 0. 0. 0. 0. 0. 0. 0. 0. 1. 0. 0. 0. 0. 0. 0. 0. 0. 1. 1. 0. 0.]\n"
     ]
    }
   ],
   "source": [
    "print (y_val)"
   ]
  },
  {
   "cell_type": "code",
   "execution_count": null,
   "metadata": {},
   "outputs": [],
   "source": [
    "model, "
   ]
  }
 ],
 "metadata": {
  "kernelspec": {
   "display_name": "Python 2",
   "language": "python",
   "name": "python2"
  },
  "language_info": {
   "codemirror_mode": {
    "name": "ipython",
    "version": 2
   },
   "file_extension": ".py",
   "mimetype": "text/x-python",
   "name": "python",
   "nbconvert_exporter": "python",
   "pygments_lexer": "ipython2",
   "version": "2.7.16"
  }
 },
 "nbformat": 4,
 "nbformat_minor": 2
}
