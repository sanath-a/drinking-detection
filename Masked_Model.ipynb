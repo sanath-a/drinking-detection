{
 "cells": [
  {
   "cell_type": "markdown",
   "metadata": {},
   "source": [
    "## Drinking Detection: Masked Images\n",
    "This Notebook walks through the training, validating, and testing of the CNN framework used for the masked videos"
   ]
  },
  {
   "cell_type": "code",
   "execution_count": 1,
   "metadata": {},
   "outputs": [],
   "source": [
    "import tensorflow as tf\n",
    "import numpy as np\n",
    "import os\n",
    "import matplotlib.pyplot as plt\n",
    "\n",
    "%matplotlib inline"
   ]
  },
  {
   "cell_type": "code",
   "execution_count": 2,
   "metadata": {},
   "outputs": [],
   "source": [
    "from model import ThreeLayerConvNet\n",
    "from trainer import train_loop\n",
    "from data import import_data, Dataset"
   ]
  },
  {
   "cell_type": "code",
   "execution_count": 3,
   "metadata": {},
   "outputs": [
    {
     "name": "stdout",
     "output_type": "stream",
     "text": [
      "./data/masked/\n"
     ]
    }
   ],
   "source": [
    "X_train, y_train, X_test, y_test, X_val, y_val = import_data(train_set = 'masked')\n",
    "train_dset = Dataset(X_train, y_train, 16, shuffle = True )\n",
    "val_dset = Dataset(X_test, y_test, 16, shuffle = False) ##NOTE: Validating on test per the google doc\n",
    "test_dset = Dataset(X_val, y_val, 15, shuffle = False)"
   ]
  },
  {
   "cell_type": "code",
   "execution_count": 4,
   "metadata": {},
   "outputs": [],
   "source": [
    "def model_init_fn():\n",
    "    channel_1, channel_2, num_classes = 64,64,2\n",
    "    \n",
    "    initializer = tf.initializers.glorot_normal()\n",
    "    layers = [\n",
    "        tf.keras.layers.Conv2D(channel_1, 5, strides = 1,\n",
    "                                padding = \"same\", activation = \"relu\", kernel_initializer = initializer),\n",
    "        tf.keras.layers.Conv2D(channel_2, 3, strides = 1,\n",
    "                               padding = \"same\", activation = \"relu\", kernel_initializer = initializer),\n",
    "        tf.keras.layers.Flatten(),\n",
    "        tf.keras.layers.Dense(num_classes, activation = \"softmax\", kernel_initializer = initializer )\n",
    "        \n",
    "    ]\n",
    "    model = tf.keras.Sequential(layers)\n",
    "    return model\n",
    "\n",
    "def optimizer_init_fn(learning_rate):\n",
    "    optimizer = tf.keras.optimizers.SGD(learning_rate = learning_rate, momentum = 0.9, nesterov = True)\n",
    "    return optimizer\n"
   ]
  },
  {
   "cell_type": "code",
   "execution_count": 5,
   "metadata": {},
   "outputs": [
    {
     "name": "stdout",
     "output_type": "stream",
     "text": [
      "Train on 116 samples, validate on 69 samples\n",
      "Epoch 1/5\n",
      "116/116 [==============================] - 37s 323ms/sample - loss: 236.0724 - sparse_categorical_accuracy: 0.6897 - val_loss: 1.7003 - val_sparse_categorical_accuracy: 0.8986\n",
      "Epoch 2/5\n",
      "116/116 [==============================] - 31s 264ms/sample - loss: 0.5979 - sparse_categorical_accuracy: 0.9052 - val_loss: 0.1476 - val_sparse_categorical_accuracy: 0.9420\n",
      "Epoch 3/5\n",
      "116/116 [==============================] - 31s 264ms/sample - loss: 0.1339 - sparse_categorical_accuracy: 0.9741 - val_loss: 0.0895 - val_sparse_categorical_accuracy: 0.9565\n",
      "Epoch 4/5\n",
      "116/116 [==============================] - 31s 266ms/sample - loss: 0.0716 - sparse_categorical_accuracy: 0.9828 - val_loss: 0.0488 - val_sparse_categorical_accuracy: 1.0000\n",
      "Epoch 5/5\n",
      "116/116 [==============================] - 31s 265ms/sample - loss: 0.0405 - sparse_categorical_accuracy: 0.9914 - val_loss: 0.0138 - val_sparse_categorical_accuracy: 1.0000\n"
     ]
    },
    {
     "data": {
      "text/plain": [
       "<tensorflow.python.keras.callbacks.History at 0x7f85243c9e48>"
      ]
     },
     "execution_count": 5,
     "metadata": {},
     "output_type": "execute_result"
    }
   ],
   "source": [
    "model = model_init_fn()\n",
    "model.compile(optimizer_init_fn(5e-4),\n",
    "              loss='sparse_categorical_crossentropy',\n",
    "              metrics=[tf.keras.metrics.sparse_categorical_accuracy])\n",
    "model.fit(X_train, y_train, batch_size=16, epochs= 5, validation_data=(X_test, y_test))"
   ]
  },
  {
   "cell_type": "code",
   "execution_count": 9,
   "metadata": {
    "scrolled": true
   },
   "outputs": [
    {
     "name": "stdout",
     "output_type": "stream",
     "text": [
      "\r",
      "47/1 [==================================================================================================================================================================================================================================================================================================================================================================================================================================================================================================================================================================================================================================================================================================================================================================================================================================================================================================================================================================================================================================================================================================================================================================================================================================================================================================================================================================================================================================================================] - 1s 15ms/sample - loss: 0.0057 - sparse_categorical_accuracy: 1.0000\n"
     ]
    }
   ],
   "source": [
    "loss, acc = model.evaluate(X_val, y_val, batch_size = 16)\n",
    "y_pred = model.predict(X_val)"
   ]
  },
  {
   "cell_type": "code",
   "execution_count": 10,
   "metadata": {},
   "outputs": [
    {
     "name": "stdout",
     "output_type": "stream",
     "text": [
      "[0 0 0 0 1 0 0 0 0 0 0 0 0 0 0 1 0 0 1 1 0 0 0 0 0 0 1 0 0 0 0 0 0 0 1 0 0\n",
      " 0 0 0 0 0 0 0 0 0 0]\n",
      "[0 0 0 0 1 0 0 0 0 0 0 0 0 0 0 1 0 0 1 1 0 0 0 0 0 0 1 0 0 0 0 0 0 0 1 0 0\n",
      " 0 0 0 0 0 0 0 0 0 0]\n"
     ]
    }
   ],
   "source": [
    "y_pred = np.argmax(y_pred, axis = 1)\n",
    "print (y_pred)\n",
    "print (y_val.astype(np.int64))"
   ]
  },
  {
   "cell_type": "code",
   "execution_count": null,
   "metadata": {},
   "outputs": [],
   "source": []
  }
 ],
 "metadata": {
  "kernelspec": {
   "display_name": "Python 2",
   "language": "python",
   "name": "python2"
  },
  "language_info": {
   "codemirror_mode": {
    "name": "ipython",
    "version": 2
   },
   "file_extension": ".py",
   "mimetype": "text/x-python",
   "name": "python",
   "nbconvert_exporter": "python",
   "pygments_lexer": "ipython2",
   "version": "2.7.16"
  }
 },
 "nbformat": 4,
 "nbformat_minor": 2
}
