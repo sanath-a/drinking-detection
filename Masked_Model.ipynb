{
 "cells": [
  {
   "cell_type": "markdown",
   "metadata": {},
   "source": [
    "## Drinking Detection: Masked Images\n",
    "This Notebook walks through the training, validating, and testing of the CNN framework used for the masked videos"
   ]
  },
  {
   "cell_type": "code",
   "execution_count": 1,
   "metadata": {},
   "outputs": [],
   "source": [
    "import tensorflow as tf\n",
    "import numpy as np\n",
    "from src import ThreeLayerConvNet, Import_Data, optimizer_init_fn"
   ]
  },
  {
   "cell_type": "markdown",
   "metadata": {},
   "source": [
    "`Import_Data()` is class used to convert images into tensors. get_data returns X and y tensors for training, testing and validation. get_labels returns the image names for the given set"
   ]
  },
  {
   "cell_type": "code",
   "execution_count": 2,
   "metadata": {},
   "outputs": [],
   "source": [
    "importer = Import_Data(train_set = 'masked')\n",
    "X_train, y_train, X_test, y_test, X_val, y_val = importer.get_data()"
   ]
  },
  {
   "cell_type": "markdown",
   "metadata": {
    "scrolled": true
   },
   "source": [
    "`ThreeLayerConvNet` contains the CNN framework used for training. `optimizer_init_fn` returns a nesterov SGD keras optimizer"
   ]
  },
  {
   "cell_type": "code",
   "execution_count": 3,
   "metadata": {},
   "outputs": [],
   "source": [
    "model = ThreeLayerConvNet()"
   ]
  },
  {
   "cell_type": "markdown",
   "metadata": {},
   "source": [
    "This block compiles and trains the network"
   ]
  },
  {
   "cell_type": "code",
   "execution_count": 4,
   "metadata": {},
   "outputs": [
    {
     "name": "stdout",
     "output_type": "stream",
     "text": [
      "Train on 116 samples, validate on 69 samples\n",
      "Epoch 1/5\n",
      "116/116 [==============================] - 36s 309ms/sample - loss: 236.9038 - sparse_categorical_accuracy: 0.5603 - val_loss: 0.3066 - val_sparse_categorical_accuracy: 0.8986\n",
      "Epoch 2/5\n",
      "116/116 [==============================] - 31s 268ms/sample - loss: 1.9636 - sparse_categorical_accuracy: 0.8707 - val_loss: 0.5332 - val_sparse_categorical_accuracy: 0.8986\n",
      "Epoch 3/5\n",
      "116/116 [==============================] - 31s 271ms/sample - loss: 0.1919 - sparse_categorical_accuracy: 0.9224 - val_loss: 0.1134 - val_sparse_categorical_accuracy: 0.9420\n",
      "Epoch 4/5\n",
      "116/116 [==============================] - 31s 271ms/sample - loss: 0.0287 - sparse_categorical_accuracy: 0.9914 - val_loss: 0.0419 - val_sparse_categorical_accuracy: 0.9855\n",
      "Epoch 5/5\n",
      "116/116 [==============================] - 31s 270ms/sample - loss: 0.0053 - sparse_categorical_accuracy: 1.0000 - val_loss: 0.0300 - val_sparse_categorical_accuracy: 0.9855\n"
     ]
    },
    {
     "data": {
      "text/plain": [
       "<tensorflow.python.keras.callbacks.History at 0x7ff32837bf50>"
      ]
     },
     "execution_count": 4,
     "metadata": {},
     "output_type": "execute_result"
    }
   ],
   "source": [
    "model.compile(optimizer_init_fn(5e-4),\n",
    "              loss='sparse_categorical_crossentropy',\n",
    "              metrics=[tf.keras.metrics.sparse_categorical_accuracy])\n",
    "model.fit(X_train, y_train, batch_size=16, epochs= 7, validation_data=(X_test, y_test))\n",
    "#Note we're valdidating on the test set per the task specification\n",
    "#If satisfactory accuracy isn't reached, increase number of epochs"
   ]
  },
  {
   "cell_type": "markdown",
   "metadata": {},
   "source": [
    "And this block evaluates how the model does on the validation set and shows the predicted values"
   ]
  },
  {
   "cell_type": "code",
   "execution_count": 5,
   "metadata": {},
   "outputs": [
    {
     "name": "stdout",
     "output_type": "stream",
     "text": [
      "47/1 [==================================================================================================================================================================================================================================================================================================================================================================================================================================================================================================================================================================================================================================================================================================================================================================================================================================================================================================================================================================================================================================================================================================================================================================================================================================================================================================================================================================================================================================================================] - 2s 47ms/sample - loss: 0.0024 - sparse_categorical_accuracy: 1.0000\n",
      "[0 0 0 0 1 0 0 0 0 0 0 0 0 0 0 1 0 0 1 1 0 0 0 0 0 0 1 0 0 0 0 0 0 0 1 0 0\n",
      " 0 0 0 0 0 0 0 0 0 0]\n"
     ]
    }
   ],
   "source": [
    "loss, acc = model.evaluate(X_val, y_val)\n",
    "y_val_pred = np.argmax(model.predict(X_val), axis = 1)\n",
    "print (y_val_pred)"
   ]
  },
  {
   "cell_type": "markdown",
   "metadata": {},
   "source": [
    "Finally, this block writes the training data labels to `output_masked.csv`"
   ]
  },
  {
   "cell_type": "code",
   "execution_count": 6,
   "metadata": {},
   "outputs": [
    {
     "name": "stdout",
     "output_type": "stream",
     "text": [
      "Output written to output_masked.csv\n"
     ]
    }
   ],
   "source": [
    "import pandas as pd \n",
    "    \n",
    "y_train_pred = np.argmax(model.predict(X_train), axis = 1)\n",
    "importer.write_output('output_masked.csv',importer.get_labels(), y_train_pred)"
   ]
  },
  {
   "cell_type": "code",
   "execution_count": null,
   "metadata": {},
   "outputs": [],
   "source": []
  }
 ],
 "metadata": {
  "kernelspec": {
   "display_name": "Python 2",
   "language": "python",
   "name": "python2"
  },
  "language_info": {
   "codemirror_mode": {
    "name": "ipython",
    "version": 2
   },
   "file_extension": ".py",
   "mimetype": "text/x-python",
   "name": "python",
   "nbconvert_exporter": "python",
   "pygments_lexer": "ipython2",
   "version": "2.7.16"
  }
 },
 "nbformat": 4,
 "nbformat_minor": 2
}
